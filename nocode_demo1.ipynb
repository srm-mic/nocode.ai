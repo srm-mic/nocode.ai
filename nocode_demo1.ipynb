{
 "cells": [
  {
   "cell_type": "code",
   "execution_count": 24,
   "metadata": {},
   "outputs": [],
   "source": [
    "import numpy as np \n",
    "from src import nocode\n",
    "import torch\n",
    "import torch.nn as nn"
   ]
  },
  {
   "cell_type": "code",
   "execution_count": 25,
   "metadata": {},
   "outputs": [],
   "source": [
    "# Here is our config file\n",
    "\n",
    "path=\"demo/demo_config.yaml\""
   ]
  },
  {
   "cell_type": "code",
   "execution_count": 26,
   "metadata": {},
   "outputs": [
    {
     "name": "stdout",
     "output_type": "stream",
     "text": [
      "Empty layer added for args:  {'tensors': ['conv3', 'conv5'], 'dim': 1}\n"
     ]
    }
   ],
   "source": [
    "# parse, build and load the model in a single line of code \n",
    "model = nocode.Build(path)"
   ]
  },
  {
   "cell_type": "code",
   "execution_count": 27,
   "metadata": {},
   "outputs": [],
   "source": [
    "# What if I want to use pretrained models? \n",
    "# How to prove that the results from a model built \n",
    "# with nocode.ai would give the same results as a proper PT\n",
    "# model? \n",
    "# Here, we have the weights from a PyTorch model and well verify\n",
    "# whether they give the same result or not...\n",
    "\n",
    "wts_path = \"demo/test.pth\"\n",
    "\n",
    "#load the weights!\n",
    "model.load_weights(wts_path)"
   ]
  },
  {
   "cell_type": "code",
   "execution_count": 28,
   "metadata": {},
   "outputs": [
    {
     "name": "stdout",
     "output_type": "stream",
     "text": [
      "ans_model.shape: [torch.Size([1, 128, 8, 8])]\n"
     ]
    }
   ],
   "source": [
    "# Lets run an one's tensor \n",
    "ex = torch.ones((1, 3, 10, 10))\n",
    "\n",
    "ans_model = model(ex)\n",
    "print(f\"ans_model.shape: [{ans_model.shape}]\")"
   ]
  },
  {
   "cell_type": "code",
   "execution_count": 36,
   "metadata": {},
   "outputs": [],
   "source": [
    "# Lets define a PyTorch model and the load the same weights \n",
    "# to check whether we get the same results!\n",
    "\n",
    "class PTModel(nn.Module):\n",
    "    def __init__(self):\n",
    "        super(PTModel, self).__init__()\n",
    "        self.conv1 = nn.Conv2d(3, 64, 3, 1)\n",
    "        self.relu1 = nn.ReLU()\n",
    "        self.conv2 = nn.Conv2d(64, 64, 1, 1)\n",
    "        self.relu2 = nn.ReLU()\n",
    "        self.conv3 = nn.Conv2d(64, 64, 1, 1)\n",
    "        self.conv4 = nn.Conv2d(64, 64, 1, 1)\n",
    "        self.relu3 = nn.ReLU()\n",
    "        self.conv5 = nn.Conv2d(64, 64, 1, 1)\n",
    "        self.relu4 = nn.ReLU()\n",
    "    \n",
    "    def forward(self, x):\n",
    "        x = self.relu1(self.conv1(x))\n",
    "        x1 = self.conv3(self.relu2(self.conv2(x)))\n",
    "        x = self.conv5(self.relu3(self.conv4(x)))\n",
    "        x = torch.cat([x1, x], dim=1)\n",
    "        return self.relu4(x)"
   ]
  },
  {
   "cell_type": "code",
   "execution_count": 37,
   "metadata": {},
   "outputs": [
    {
     "data": {
      "text/plain": [
       "<All keys matched successfully>"
      ]
     },
     "execution_count": 37,
     "metadata": {},
     "output_type": "execute_result"
    }
   ],
   "source": [
    "# lets instantiate the model and load the common wts\n",
    "\n",
    "\n",
    "pt_model = PTModel()\n",
    "\n",
    "pt_model.load_state_dict(torch.load(wts_path))\n"
   ]
  },
  {
   "cell_type": "code",
   "execution_count": 41,
   "metadata": {},
   "outputs": [
    {
     "name": "stdout",
     "output_type": "stream",
     "text": [
      "pt_ans.shape: torch.Size([1, 128, 8, 8])\n"
     ]
    }
   ],
   "source": [
    "# lets run our ones tensor through\n",
    "\n",
    "ex = torch.ones((1, 3, 10, 10))\n",
    "pt_ans = pt_model(ex)\n",
    "print(f\"pt_ans.shape: {pt_ans.shape}\")"
   ]
  },
  {
   "cell_type": "code",
   "execution_count": 42,
   "metadata": {},
   "outputs": [
    {
     "name": "stdout",
     "output_type": "stream",
     "text": [
      "tensor([[0.0124, 0.0124, 0.0124, 0.0124, 0.0124, 0.0124, 0.0124, 0.0124],\n",
      "        [0.0124, 0.0124, 0.0124, 0.0124, 0.0124, 0.0124, 0.0124, 0.0124],\n",
      "        [0.0124, 0.0124, 0.0124, 0.0124, 0.0124, 0.0124, 0.0124, 0.0124],\n",
      "        [0.0124, 0.0124, 0.0124, 0.0124, 0.0124, 0.0124, 0.0124, 0.0124],\n",
      "        [0.0124, 0.0124, 0.0124, 0.0124, 0.0124, 0.0124, 0.0124, 0.0124],\n",
      "        [0.0124, 0.0124, 0.0124, 0.0124, 0.0124, 0.0124, 0.0124, 0.0124],\n",
      "        [0.0124, 0.0124, 0.0124, 0.0124, 0.0124, 0.0124, 0.0124, 0.0124],\n",
      "        [0.0124, 0.0124, 0.0124, 0.0124, 0.0124, 0.0124, 0.0124, 0.0124]],\n",
      "       grad_fn=<SelectBackward>)\n",
      "tensor([[0.0124, 0.0124, 0.0124, 0.0124, 0.0124, 0.0124, 0.0124, 0.0124],\n",
      "        [0.0124, 0.0124, 0.0124, 0.0124, 0.0124, 0.0124, 0.0124, 0.0124],\n",
      "        [0.0124, 0.0124, 0.0124, 0.0124, 0.0124, 0.0124, 0.0124, 0.0124],\n",
      "        [0.0124, 0.0124, 0.0124, 0.0124, 0.0124, 0.0124, 0.0124, 0.0124],\n",
      "        [0.0124, 0.0124, 0.0124, 0.0124, 0.0124, 0.0124, 0.0124, 0.0124],\n",
      "        [0.0124, 0.0124, 0.0124, 0.0124, 0.0124, 0.0124, 0.0124, 0.0124],\n",
      "        [0.0124, 0.0124, 0.0124, 0.0124, 0.0124, 0.0124, 0.0124, 0.0124],\n",
      "        [0.0124, 0.0124, 0.0124, 0.0124, 0.0124, 0.0124, 0.0124, 0.0124]],\n",
      "       grad_fn=<SelectBackward>)\n"
     ]
    }
   ],
   "source": [
    "# lets print and check one of their channels \n",
    "print(ans_model[0, 1])\n",
    "print(pt_ans[0, 1])"
   ]
  },
  {
   "cell_type": "code",
   "execution_count": 44,
   "metadata": {},
   "outputs": [
    {
     "name": "stdout",
     "output_type": "stream",
     "text": [
      "tensor([[0.0581, 0.0581, 0.0581, 0.0581, 0.0581, 0.0581, 0.0581, 0.0581],\n",
      "        [0.0581, 0.0581, 0.0581, 0.0581, 0.0581, 0.0581, 0.0581, 0.0581],\n",
      "        [0.0581, 0.0581, 0.0581, 0.0581, 0.0581, 0.0581, 0.0581, 0.0581],\n",
      "        [0.0581, 0.0581, 0.0581, 0.0581, 0.0581, 0.0581, 0.0581, 0.0581],\n",
      "        [0.0581, 0.0581, 0.0581, 0.0581, 0.0581, 0.0581, 0.0581, 0.0581],\n",
      "        [0.0581, 0.0581, 0.0581, 0.0581, 0.0581, 0.0581, 0.0581, 0.0581],\n",
      "        [0.0581, 0.0581, 0.0581, 0.0581, 0.0581, 0.0581, 0.0581, 0.0581],\n",
      "        [0.0581, 0.0581, 0.0581, 0.0581, 0.0581, 0.0581, 0.0581, 0.0581]],\n",
      "       grad_fn=<SelectBackward>)\n",
      "tensor([[0.0581, 0.0581, 0.0581, 0.0581, 0.0581, 0.0581, 0.0581, 0.0581],\n",
      "        [0.0581, 0.0581, 0.0581, 0.0581, 0.0581, 0.0581, 0.0581, 0.0581],\n",
      "        [0.0581, 0.0581, 0.0581, 0.0581, 0.0581, 0.0581, 0.0581, 0.0581],\n",
      "        [0.0581, 0.0581, 0.0581, 0.0581, 0.0581, 0.0581, 0.0581, 0.0581],\n",
      "        [0.0581, 0.0581, 0.0581, 0.0581, 0.0581, 0.0581, 0.0581, 0.0581],\n",
      "        [0.0581, 0.0581, 0.0581, 0.0581, 0.0581, 0.0581, 0.0581, 0.0581],\n",
      "        [0.0581, 0.0581, 0.0581, 0.0581, 0.0581, 0.0581, 0.0581, 0.0581],\n",
      "        [0.0581, 0.0581, 0.0581, 0.0581, 0.0581, 0.0581, 0.0581, 0.0581]],\n",
      "       grad_fn=<SelectBackward>)\n"
     ]
    }
   ],
   "source": [
    "print(ans_model[0, 2])\n",
    "print(pt_ans[0, 2])"
   ]
  },
  {
   "cell_type": "code",
   "execution_count": null,
   "metadata": {},
   "outputs": [],
   "source": []
  }
 ],
 "metadata": {
  "kernelspec": {
   "display_name": "Python 3.7.1 64-bit ('autoblur': conda)",
   "language": "python",
   "name": "python37164bitautoblurconda8e4e10fe89a74045a49408837222a6d2"
  },
  "language_info": {
   "codemirror_mode": {
    "name": "ipython",
    "version": 3
   },
   "file_extension": ".py",
   "mimetype": "text/x-python",
   "name": "python",
   "nbconvert_exporter": "python",
   "pygments_lexer": "ipython3",
   "version": "3.7.1"
  }
 },
 "nbformat": 4,
 "nbformat_minor": 4
}
